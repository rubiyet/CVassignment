{
 "cells": [
  {
   "cell_type": "code",
   "execution_count": 22,
   "id": "pacific-sperm",
   "metadata": {},
   "outputs": [],
   "source": [
    "import numpy as np\n",
    "import matplotlib.pyplot as plt\n",
    "import os\n",
    "import cv2\n",
    "from tqdm import tqdm"
   ]
  },
  {
   "cell_type": "code",
   "execution_count": 23,
   "id": "indoor-marble",
   "metadata": {},
   "outputs": [],
   "source": [
    "_DATA_SET = r\"C:\\Users\\Rubiyet Adi\\OneDrive\\Desktop\\OneDrive\\COURSE SLIDE\\10th\\COMPUTER VISION AND PATTERN RECOGNITION\\MID TERM\\pythonJupyter\\DATA_SETS\\CIFAR10\"\n",
    "_CATEGORIES = ['airplane', 'automobile','bird','cat','deer','dog','frog','horse','ship','truck']"
   ]
  },
  {
   "cell_type": "code",
   "execution_count": 24,
   "id": "conditional-invasion",
   "metadata": {},
   "outputs": [
    {
     "name": "stderr",
     "output_type": "stream",
     "text": [
      "100%|██████████████████████████████████████████████████████████████████████████| 50000/50000 [00:10<00:00, 4976.85it/s]\n",
      "100%|██████████████████████████████████████████████████████████████████████████| 50000/50000 [00:09<00:00, 5045.20it/s]\n",
      "100%|██████████████████████████████████████████████████████████████████████████| 50000/50000 [00:10<00:00, 4982.50it/s]\n",
      "100%|██████████████████████████████████████████████████████████████████████████| 50000/50000 [00:09<00:00, 5011.55it/s]\n",
      "100%|██████████████████████████████████████████████████████████████████████████| 50000/50000 [00:10<00:00, 4987.54it/s]\n",
      "100%|██████████████████████████████████████████████████████████████████████████| 50000/50000 [00:10<00:00, 4945.70it/s]\n",
      "100%|██████████████████████████████████████████████████████████████████████████| 50000/50000 [00:10<00:00, 4968.91it/s]\n",
      "100%|██████████████████████████████████████████████████████████████████████████| 50000/50000 [00:09<00:00, 5002.19it/s]\n",
      "100%|██████████████████████████████████████████████████████████████████████████| 50000/50000 [00:09<00:00, 5057.98it/s]\n",
      "100%|██████████████████████████████████████████████████████████████████████████| 50000/50000 [00:10<00:00, 4976.09it/s]\n"
     ]
    }
   ],
   "source": [
    "path = os.path.join(_DATA_SET, \"train\") #join train in _Data_Set using by os and store in path\n",
    "_train_data = [] #_train_Data use for store of all image from local disk\n",
    "_img_size = 32 #image size initialize for resize\n",
    "for l in _CATEGORIES: \n",
    "    _label = _CATEGORIES.index(l) #l for _CATEGORIES index, and store index of l in _label\n",
    "    for img in tqdm(os.listdir(path)):\n",
    "        try:\n",
    "            _img_array = cv2.imread(os.path.join(path, img)) #join img in path using by os and read it using by cv2.imread and store it in _img_array\n",
    "            _img_resized = cv2.resize(_img_array, (_img_size, _img_size)) #_img_array resize of _img_size using by cv2.resize\n",
    "            _train_data.append([_img_resized, _label]) #img resized and _label append in the _train_Data \n",
    "        except Exception as e:\n",
    "            pass"
   ]
  },
  {
   "cell_type": "code",
   "execution_count": 25,
   "id": "formed-thursday",
   "metadata": {},
   "outputs": [
    {
     "name": "stdout",
     "output_type": "stream",
     "text": [
      "500000\n"
     ]
    }
   ],
   "source": [
    "print(len(_train_data)) #print length of _train_Data\n",
    "import random\n",
    "random.shuffle(_train_data) #randomly shuffle of _train_Data"
   ]
  },
  {
   "cell_type": "code",
   "execution_count": 26,
   "id": "radical-sense",
   "metadata": {},
   "outputs": [],
   "source": [
    "_folder_size = 10000 #total image number of a folder\n",
    "\n",
    "#divided by 5 folder of 50000 image: _folder1 to _folder5.\n",
    "_folder1 = _train_data[0:10000]\n",
    "_folder2 = _train_data[10000:20000]\n",
    "_folder3 = _train_data[20000:30000]\n",
    "_folder4 = _train_data[30000:40000]\n",
    "_folder5 = _train_data[40000:50000]          \n",
    "#Each folder has 10000 image.\n",
    "\n",
    "\n",
    "#validation data and train data initialize 5 times, each time validation data declare different different folder.\n",
    "_train1 = _folder1 + _folder2 + _folder3 + _folder4 \n",
    "_validation1 = _folder5\n",
    "\n",
    "_train2 = _folder1 + _folder2 + _folder3 + _folder5\n",
    "_validation2 = _folder4\n",
    "\n",
    "_train3 = _folder1 + _folder2 + _folder4 + _folder5\n",
    "_validation3 = _folder3\n",
    "\n",
    "_train4 = _folder1 + _folder3 + _folder3 + _folder5\n",
    "_validation4 = _folder2\n",
    "\n",
    "_train5 = _folder2 + _folder2 + _folder3 + _folder5\n",
    "_validation5 = _folder1"
   ]
  },
  {
   "cell_type": "code",
   "execution_count": null,
   "id": "periodic-toolbox",
   "metadata": {},
   "outputs": [
    {
     "name": "stderr",
     "output_type": "stream",
     "text": [
      "  0%|▏                                                                            | 30/10000 [00:16<1:31:40,  1.81it/s]"
     ]
    }
   ],
   "source": [
    "K = []  #store graph point\n",
    "for i in range(5):\n",
    "    count = [0]*20  #count 20 point\n",
    "    if(i == 0):\n",
    "        for _v1 in tqdm(_validation1):\n",
    "            _distance_image_catagory_Array = [] #Store summation of distance between image, image and image label\n",
    "            for _t1 in _train1:\n",
    "                _distance = np.abs(_v1[0] - _t1[0]) #Absolute value of distance between _validation1 image to _train1 image\n",
    "                _summation = np.sum(_distance) # summation of distance\n",
    "                _distance_image_catagory = [_summation, _t1[0], _t1[1]] #Store distance between _validation1 image to _train1 image, image and image label \n",
    "                _distance_image_catagory_Array.append(_distance_image_catagory) #append _distance_catagory_image in _distance_catagory_image_Array\n",
    "   \n",
    "            _distance_image_catagory_Array.sort(key = lambda x: x[0]) #_distance_catagory_image_Array sort by lambda\n",
    "                \n",
    "            \n",
    "            c = 0 # 1\n",
    "            for j in range(20):\n",
    "                if(_v1[1] == _distance_image_catagory_Array[j][0]): #check _distance_catagory_image_Array and _v1 is equal or not.\n",
    "                    c = c+1 #addition 1 in c\n",
    "                if(c/(j+1)> 0.5):#for valid img\n",
    "                    count[j] +=1\n",
    "        points=[] #for graph point\n",
    "        for j in range(20):#j=0\n",
    "            points.append((count[j]/_folder_size)*100) #append in points\n",
    "        K.append(points) #append in points\n",
    "        \n",
    "    if(i == 1):\n",
    "        for _v2 in tqdm(_validation2):\n",
    "            _distance_image_catagory_Array = [] #Store summation of distance between image, image and image label\n",
    "            for _t2 in _train2:\n",
    "                _distance = np.abs(_v2[0] - _t2[0]) #Absolute value of distance between _validation1 image to _train1 image\n",
    "                _summation = np.sum(_distance) # summation of distance\n",
    "                _distance_image_catagory = [_summation, _t2[0], _t2[1]] #Store distance between _validation1 image to _train1 image, image and image label \n",
    "                _distance_image_catagory_Array.append(_distance_image_catagory) #append _distance_catagory_image in _distance_catagory_image_Array\n",
    "   \n",
    "            _distance_image_catagory_Array.sort(key = lambda x: x[0]) #_distance_catagory_image_Array sort by lambda\n",
    "                \n",
    "            \n",
    "            c = 0 # 1\n",
    "            for j in range(20):\n",
    "                if(_v2[1] == _distance_image_catagory_Array[j][0]): #check _distance_catagory_image_Array and _v1 is equal or not.\n",
    "                    c = c+1 #addition 1 in c\n",
    "                if(c/(j+1)> 0.5):#for valid img\n",
    "                    count[j] +=1\n",
    "        points=[] #for graph point\n",
    "        for j in range(20):#j=0\n",
    "            points.append((count[j]/_folder_size)*100) #append in points\n",
    "        K.append(points) #append in points\n",
    "        \n",
    "    if(i == 2):\n",
    "        for _v3 in tqdm(_validation3):\n",
    "            _distance_image_catagory_Array = [] #Store summation of distance between image, image and image label\n",
    "            for _t3 in _train3:\n",
    "                _distance = np.abs(_v3[0] - _t3[0]) #Absolute value of distance between _validation1 image to _train1 image\n",
    "                _summation = np.sum(_distance) # summation of distance\n",
    "                _distance_image_catagory = [_summation, _t3[0], _t3[1]] #Store distance between _validation1 image to _train1 image, image and image label \n",
    "                _distance_image_catagory_Array.append(_distance_image_catagory) #append _distance_catagory_image in _distance_catagory_image_Array\n",
    "   \n",
    "            _distance_image_catagory_Array.sort(key = lambda x: x[0]) #_distance_catagory_image_Array sort by lambda\n",
    "                \n",
    "            \n",
    "            c = 0 # 1\n",
    "            for j in range(20):\n",
    "                if(_v3[1] == _distance_image_catagory_Array[j][0]): #check _distance_catagory_image_Array and _v1 is equal or not.\n",
    "                    c = c+1 #addition 1 in c\n",
    "                if(c/(j+1)> 0.5):#for valid img\n",
    "                    count[j] +=1\n",
    "        points=[] #for graph point\n",
    "        for j in range(20):#j=0\n",
    "            points.append((count[j]/_folder_size)*100) #append in points\n",
    "        K.append(points) #append in points\n",
    "        \n",
    "    if(i == 3):\n",
    "        for _v4 in tqdm(_validation1):\n",
    "            _distance_image_catagory_Array = [] #Store summation of distance between image, image and image label\n",
    "            for _t4 in _train4:\n",
    "                _distance = np.abs(_v4[0] - _t4[0]) #Absolute value of distance between _validation1 image to _train1 image\n",
    "                _summation = np.sum(_distance) # summation of distance\n",
    "                _distance_image_catagory = [_summation, _t4[0], _t4[1]] #Store distance between _validation1 image to _train1 image, image and image label \n",
    "                _distance_image_catagory_Array.append(_distance_image_catagory) #append _distance_catagory_image in _distance_catagory_image_Array\n",
    "   \n",
    "            _distance_image_catagory_Array.sort(key = lambda x: x[0]) #_distance_catagory_image_Array sort by lambda\n",
    "                \n",
    "            \n",
    "            c = 0 # 1\n",
    "            for j in range(20):\n",
    "                if(_v4[1] == _distance_image_catagory_Array[j][0]): #check _distance_catagory_image_Array and _v1 is equal or not.\n",
    "                    c = c+1 #addition 1 in c\n",
    "                if(c/(j+1)> 0.5):#for valid img\n",
    "                    count[j] +=1\n",
    "        points=[] #for graph point\n",
    "        for j in range(20):#j=0\n",
    "            points.append((count[j]/_folder_size)*100) #append in points\n",
    "        K.append(points) #append in points\n",
    "        \n",
    "    if(i == 4):\n",
    "        for _v5 in tqdm(_validation5):\n",
    "            _distance_image_catagory_Array = [] #Store summation of distance between image, image and image label\n",
    "            for _t5 in _train5:\n",
    "                _distance = np.abs(_v5[0] - _t5[0]) #Absolute value of distance between _validation1 image to _train1 image\n",
    "                _summation = np.sum(_distance) # summation of distance\n",
    "                _distance_image_catagory = [_summation, _t5[0], _t5[1]] #Store distance between _validation1 image to _train1 image, image and image label \n",
    "                _distance_image_catagory_Array.append(_distance_image_catagory) #append _distance_catagory_image in _distance_catagory_image_Array\n",
    "   \n",
    "            _distance_image_catagory_Array.sort(key = lambda x: x[0]) #_distance_catagory_image_Array sort by lambda\n",
    "                \n",
    "            \n",
    "            c = 0 # 1\n",
    "            for j in range(20):\n",
    "                if(_v5[1] == _distance_image_catagory_Array[j][0]): #check _distance_catagory_image_Array and _v1 is equal or not.\n",
    "                    c = c+1 #addition 1 in c\n",
    "                if(c/(j+1)> 0.5):#for valid img\n",
    "                    count[j] +=1\n",
    "        points=[] #for graph point\n",
    "        for j in range(20):#j=0\n",
    "            points.append((count[j]/_folder_size)*100) #append in points\n",
    "        K.append(points) #append in points"
   ]
  },
  {
   "cell_type": "code",
   "execution_count": 20,
   "id": "ultimate-phase",
   "metadata": {},
   "outputs": [
    {
     "name": "stderr",
     "output_type": "stream",
     "text": [
      "<ipython-input-20-e0611d9c1900>:11: MatplotlibDeprecationWarning: Adding an axes using the same arguments as a previous axes currently reuses the earlier instance.  In a future version, a new instance will always be created and returned.  Meanwhile, this warning can be suppressed, and the future behavior ensured, by passing a unique label to each axes instance.\n",
      "  ax = plt.axes()\n"
     ]
    },
    {
     "data": {
      "image/png": "[encoded data removed]",
      "text/plain": [
       "<Figure size 432x288 with 1 Axes>"
      ]
     },
     "metadata": {
      "needs_background": "light"
     },
     "output_type": "display_data"
    }
   ],
   "source": [
    "x = [0,1,2,3,4,5,6,7,8,9,10,11,12,13,14,15,16,17,18,19]\n",
    "p=[0]*20\n",
    "for i in range(5):\n",
    "    for j in range(20):\n",
    "        p[j]=p[j]+K[i][j]/5  #for mid point\n",
    "        plt.plot(j,K[i][j],'o')\n",
    "\n",
    "for i in range(20):\n",
    "    plt.plot(i,p[i],'o') #ploting the mid point\n",
    "\n",
    "ax = plt.axes()\n",
    "ax.plot(x, (p)); #line draw\n",
    "\n",
    "plt.title('Cross-validation on k')\n",
    "plt.xlabel('k')\n",
    "plt.ylabel('Cross-validation accuracy')\n",
    "\n",
    "plt.show() #show the plot"
   ]
  },
  {
   "cell_type": "code",
   "execution_count": null,
   "id": "south-ebony",
   "metadata": {},
   "outputs": [],
   "source": []
  }
 ],
 "metadata": {
  "kernelspec": {
   "display_name": "Python 3",
   "language": "python",
   "name": "python3"
  },
  "language_info": {
   "codemirror_mode": {
    "name": "ipython",
    "version": 3
   },
   "file_extension": ".py",
   "mimetype": "text/x-python",
   "name": "python",
   "nbconvert_exporter": "python",
   "pygments_lexer": "ipython3",
   "version": "3.8.3"
  }
 },
 "nbformat": 4,
 "nbformat_minor": 5
}
